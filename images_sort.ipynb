{
 "cells": [
  {
   "cell_type": "code",
   "execution_count": 1,
   "id": "773c105a",
   "metadata": {},
   "outputs": [],
   "source": [
    "import os\n",
    "import shutil\n",
    "import re\n",
    "from find_pet_on_photo import find_pet"
   ]
  },
  {
   "cell_type": "markdown",
   "id": "9fe41677",
   "metadata": {},
   "source": [
    "### Разбиение исходных фото на папки по принципу коты/собаки, а внутри по породам "
   ]
  },
  {
   "cell_type": "code",
   "execution_count": 2,
   "id": "61efd220",
   "metadata": {},
   "outputs": [
    {
     "name": "stdout",
     "output_type": "stream",
     "text": [
      "WARNING:tensorflow:From /home/polysh/anaconda3/lib/python3.8/site-packages/tensorflow/python/ops/array_ops.py:5043: calling gather (from tensorflow.python.ops.array_ops) with validate_indices is deprecated and will be removed in a future version.\n",
      "Instructions for updating:\n",
      "The `validate_indices` argument has no effect. Indices are always validated on CPU and never validated on GPU.\n",
      "WARNING:tensorflow:From /home/polysh/anaconda3/lib/python3.8/site-packages/tensorflow/python/util/deprecation.py:602: calling map_fn_v2 (from tensorflow.python.ops.map_fn) with dtype is deprecated and will be removed in a future version.\n",
      "Instructions for updating:\n",
      "Use fn_output_signature instead\n",
      "1 / 7393 complete.\r"
     ]
    },
    {
     "name": "stderr",
     "output_type": "stream",
     "text": [
      "/home/polysh/anaconda3/lib/python3.8/site-packages/tensorflow/python/keras/engine/training.py:2426: UserWarning: `Model.state_updates` will be removed in a future version. This property should not be used in TensorFlow 2.0, as `updates` are applied automatically.\n",
      "  warnings.warn('`Model.state_updates` will be removed in a future version. '\n"
     ]
    },
    {
     "name": "stdout",
     "output_type": "stream",
     "text": [
      "7390 / 7393 complete.\r"
     ]
    }
   ],
   "source": [
    "home_dir = os.path.realpath('')\n",
    "dir_way = home_dir + '/images'\n",
    "to_dir = home_dir + '/cat_breed_V2.0'\n",
    "cats = to_dir + '/' + 'cats'\n",
    "dogs = to_dir + '/' + 'dogs'\n",
    "count = 0\n",
    "\n",
    "os.mkdir(to_dir)\n",
    "os.mkdir(cats)\n",
    "os.mkdir(dogs)\n",
    "dir_size = len(os.listdir(dir_way))\n",
    "\n",
    "cat_dog = find_cat(home_dir + '/mask_rcnn_coco.h5')\n",
    "\n",
    "for img in os.listdir(dir_way):\n",
    "    if img[len(img) - 1] != 'g':\n",
    "        continue  \n",
    "        \n",
    "    breed = img.split('.')[0]\n",
    "    breed = re.sub(r\"\\d+\", \"\", breed, flags=re.UNICODE)\n",
    "    breed = breed[:len(breed) - 1]\n",
    "    \n",
    "    count += 1\n",
    "    print('{} / {} complete.'.format(count,dir_size), end='\\r')\n",
    "    \n",
    "    if os.path.exists(cats + '/' + breed):\n",
    "        shutil.copy(dir_way + '/' + img, cats + '/' + breed)\n",
    "        continue\n",
    "    if os.path.exists(dogs + '/' + breed):\n",
    "        shutil.copy(dir_way + '/' + img, dogs + '/' + breed)\n",
    "        continue\n",
    "    \n",
    "    kind = cat_dog.cat_or_dog(dir_way + '/' + img)\n",
    "    \n",
    "    if kind == 'cat':\n",
    "        os.mkdir(cats + '/' + breed)\n",
    "        shutil.copy(dir_way + '/' + img, cats + '/' + breed)\n",
    "        continue\n",
    "    if kind == 'dog':\n",
    "        os.mkdir(dogs + '/' + breed)\n",
    "        shutil.copy(dir_way + '/' + img, dogs + '/' + breed)\n",
    "        continue"
   ]
  },
  {
   "cell_type": "markdown",
   "id": "ab5e46a4",
   "metadata": {},
   "source": [
    "### Получение тестовой выборки котов и их сохранение в отдельную папку"
   ]
  },
  {
   "cell_type": "code",
   "execution_count": 4,
   "id": "382f89cd",
   "metadata": {},
   "outputs": [],
   "source": [
    "to_dir = home_dir + '/cat_breed_V2.0'\n",
    "try:\n",
    "    os.mkdir(to_dir + '/test_cat')\n",
    "except:\n",
    "    pass\n",
    "to_dir = to_dir + '/test_cat'\n",
    "\n",
    "for fold in os.listdir(cats):\n",
    "    fold_way = cats + '/' + fold\n",
    "    test_size = int(len(os.listdir(fold_way)) / 5)\n",
    "    test_fold = to_dir + '/' + fold + '_test'\n",
    "    \n",
    "    if os.path.exists(test_fold) or fold.split('_')[-1] == 'test':\n",
    "        pass\n",
    "    else:\n",
    "        for img, i in zip(os.listdir(cats + '/' + fold), range(test_size)):\n",
    "            try:\n",
    "                os.mkdir(test_fold)\n",
    "            except:\n",
    "                pass\n",
    "            shutil.move(cats + '/' + fold + '/' + img, test_fold)\n",
    "            "
   ]
  },
  {
   "cell_type": "markdown",
   "id": "d08fdc54",
   "metadata": {},
   "source": [
    "### Аналогично котам производим выборку и для собак"
   ]
  },
  {
   "cell_type": "code",
   "execution_count": 5,
   "id": "ba38626a",
   "metadata": {},
   "outputs": [],
   "source": [
    "to_dir = home_dir + '/cat_breed_V2.0'\n",
    "try:\n",
    "    os.mkdir(to_dir + '/test_dog')\n",
    "except:\n",
    "    pass\n",
    "to_dir = to_dir + '/test_dog'\n",
    "\n",
    "for fold in os.listdir(dogs):\n",
    "    fold_way = dogs + '/' + fold\n",
    "    test_size = int(len(os.listdir(fold_way)) / 5)\n",
    "    test_fold = to_dir + '/' + fold + '_test'\n",
    "    \n",
    "    if os.path.exists(test_fold) or fold.split('_')[-1] == 'test':\n",
    "        pass\n",
    "    else:\n",
    "        for img, i in zip(os.listdir(dogs + '/' + fold), range(test_size)):\n",
    "            try:\n",
    "                os.mkdir(test_fold)\n",
    "            except:\n",
    "                pass\n",
    "            shutil.move(dogs + '/' + fold + '/' + img, test_fold)"
   ]
  }
 ],
 "metadata": {
  "kernelspec": {
   "display_name": "Python 3",
   "language": "python",
   "name": "python3"
  },
  "language_info": {
   "codemirror_mode": {
    "name": "ipython",
    "version": 3
   },
   "file_extension": ".py",
   "mimetype": "text/x-python",
   "name": "python",
   "nbconvert_exporter": "python",
   "pygments_lexer": "ipython3",
   "version": "3.8.8"
  }
 },
 "nbformat": 4,
 "nbformat_minor": 5
}
